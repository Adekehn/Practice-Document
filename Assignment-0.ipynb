{
 "cells": [
  {
   "cell_type": "markdown",
   "metadata": {
    "deletable": false,
    "editable": false,
    "nbgrader": {
     "cell_type": "markdown",
     "checksum": "45f0e4f0945ae3265f5b25da23748071",
     "grade": false,
     "grade_id": "cell-577a4204893ab1a5",
     "locked": true,
     "schema_version": 3,
     "solution": false
    }
   },
   "source": [
    "# Kick-off Assignment\n",
    "\n",
    "The exercise for this week is meant to help you practice using Python and Jupyter Notebook, and practice saving changes to your files using Git and GitHub. You will also get to practice the Markdown syntax. \n",
    "\n",
    "## Notes about the exercise notebook\n",
    "\n",
    "1. The Python code cells where you should make changes contain text that reads\n",
    "\n",
    "    ```Python\n",
    "\n",
    "    # YOUR CODE HERE\n",
    "    raise NotImplementedError()\n",
    "    \n",
    "    ```\n",
    "    <br/>**You should delete that text and replace it with your solution (code)**.\n",
    "\n",
    "   \n",
    "2. The Markdown cells where you should make changes contain text that reads\n",
    "\n",
    "    ```text\n",
    "    \n",
    "    YOUR ANSWER HERE\n",
    "    ```\n",
    "    <br/>**You should delete that text and replace it with your answer**.\n",
    "\n",
    "3. Some of the cells in this Jupyter Notebook are \"Read-only\", which means that you are not able to edit them.\n",
    "4. Some of the code cells contain tests. If these tests fail (i.e., you see an error message), you know there is still something wrong with your code that you should fix.\n",
    "\n",
    "<!-- ### Tips for completing this exercise\n",
    "\n",
    "- Use **exactly** the same variable names as in the instructions because your answers will be automatically graded, and the tests that grade your answers rely on following the same formatting or variable naming as in the instructions.\n",
    "- **Please do not**:\n",
    "\n",
    "    - **Change the file names**. Do all of your editing in the provided `Exercise-2.ipynb` file (this file).\n",
    "    - **Copy/paste cells in this notebook**. We use an automated grading system that will fail if there are copies of code cells.\n",
    "    - **Change the existing cell types**. You can add cells, but changing the cell types for existing cells (from code to markdown, for example) will also cause the automated grader to fail. -->"
   ]
  },
  {
   "cell_type": "markdown",
   "metadata": {
    "deletable": false,
    "editable": false,
    "nbgrader": {
     "cell_type": "markdown",
     "checksum": "de1f42440fd1d59c339e8f08f9466677",
     "grade": false,
     "grade_id": "cell-51a3fbb6b8d35c74",
     "locked": true,
     "schema_version": 3,
     "solution": false
    }
   },
   "source": [
    "## Problem 1 - Cloning Assignment repository in JupyterLab\n",
    "\n",
    "Problem 1 involves cloning the kick-off assignment to your local computer by accepting the GitHub Classroom assignment and utilizing the JupyterLab Git extension. To clone the kick-off assignment for editing on your local system, refer to the instructions detailed in the tutorial [Preparations](https://engo645-assignments.readthedocs.io/en/latest/tutorials/L1/prepration.html).\n"
   ]
  },
  {
   "cell_type": "markdown",
   "metadata": {
    "deletable": false,
    "editable": false,
    "nbgrader": {
     "cell_type": "markdown",
     "checksum": "5f83aa777535af77fc70286bf7bafedd",
     "grade": false,
     "grade_id": "cell-34d197ef67f874ec",
     "locked": true,
     "schema_version": 3,
     "solution": false
    }
   },
   "source": [
    "## Problem 2 - Making and changing Numpy Arrays, and using Git\n",
    "\n",
    "Imagin a hospital tested the age and body fat data for 10 randomly selected adults with the following results. \n",
    "\n",
    "| Age      | % Fat     |\n",
    "| -------- | :-------: |\n",
    "| 23       | 9.5       |\n",
    "| 23       | 26.5      |\n",
    "| 27       | 7.8       |\n",
    "| 27       | 17.8      |\n",
    "| 39       | 31.4      |\n",
    "| 41       | 25.9      |\n",
    "| 47       | 27.4      |\n",
    "| 49       | 27.2      |\n",
    "| 50       | 31.2      |\n",
    "| 52       | 34.6      |\n",
    "\n",
    "Your initial task for this assignment involves utilizing the ``` numpy ``` library to create arrays representing the ages and the body fat percentages of these individuals. \n",
    "You will then compute the mean, median, and standard deviation for both the age and % fat datasets.\n"
   ]
  },
  {
   "cell_type": "markdown",
   "metadata": {
    "deletable": false,
    "editable": false,
    "nbgrader": {
     "cell_type": "markdown",
     "checksum": "8f9faf36dff34f1a5f43b28215a6d7b2",
     "grade": false,
     "grade_id": "cell-624ad911a29570ae",
     "locked": true,
     "schema_version": 3,
     "solution": false
    }
   },
   "source": [
    "### Part 1 - Creating the arrays\n",
    "\n",
    "In the cell below you should create two arrays:\n",
    "\n",
    "- `age_array` should contain the ages values\n",
    "- `body_fat_array` should contain the %fat values"
   ]
  },
  {
   "cell_type": "code",
   "execution_count": null,
   "metadata": {},
   "outputs": [],
   "source": []
  },
  {
   "cell_type": "markdown",
   "metadata": {},
   "source": []
  },
  {
   "cell_type": "code",
   "execution_count": 3,
   "metadata": {
    "deletable": false,
    "nbgrader": {
     "cell_type": "code",
     "checksum": "30b2defcd516fd1d0ee4fc1d2185b387",
     "grade": false,
     "grade_id": "problem_1_ag_p1_station_lists",
     "locked": false,
     "schema_version": 3,
     "solution": true,
     "task": false
    }
   },
   "outputs": [],
   "source": [
    "# import the numpy array package   \n",
    "import numpy as np # type: ignore\n",
    "\n",
    "# Create the arrays below\n",
    "age_array = np.array([23,23,27,27,39,41,47,49,50,52])\n",
    "body_fat_array = np.array([9.5,26.5,7.8,17.8,31.4,25.9,27.4,27.2,31.2,34.6])\n"
   ]
  },
  {
   "cell_type": "markdown",
   "metadata": {
    "deletable": false,
    "editable": false,
    "nbgrader": {
     "cell_type": "markdown",
     "checksum": "137ae18b47dd7d33f45036431920c009",
     "grade": false,
     "grade_id": "cell-a4f94f90a8ef693a",
     "locked": true,
     "schema_version": 3,
     "solution": false,
     "task": false
    }
   },
   "source": [
    "Let's now check the lists contain the expected values."
   ]
  },
  {
   "cell_type": "code",
   "execution_count": 4,
   "metadata": {
    "deletable": false,
    "editable": false,
    "nbgrader": {
     "cell_type": "code",
     "checksum": "66ba694479717036eaf391f2975da9d7",
     "grade": true,
     "grade_id": "problem_1_ag_p1_station_lists_test1",
     "locked": true,
     "points": 0.5,
     "schema_version": 3,
     "solution": false,
     "task": false
    }
   },
   "outputs": [],
   "source": [
    "######### This is a test cell that checks that the arrays lengths are correct #########\n",
    "# Running this cell should not produce any errors\n",
    "\n",
    "assert len(age_array) == 10, 'The age_array should have 10 items.'\n",
    "assert len(body_fat_array) == 10, 'The body_fat_array should have 10 items.'"
   ]
  },
  {
   "cell_type": "code",
   "execution_count": 5,
   "metadata": {
    "deletable": false,
    "editable": false,
    "nbgrader": {
     "cell_type": "code",
     "checksum": "3e38bade7644bc60c3392d048f668d11",
     "grade": true,
     "grade_id": "problem_1_ag_p1_station_lists_test2",
     "locked": true,
     "points": 0.5,
     "schema_version": 3,
     "solution": false,
     "task": false
    }
   },
   "outputs": [],
   "source": [
    "######### This is a test cell that checks that the first item in the arrays is correct #########\n",
    "# Running this cell should not produce any errors\n",
    "\n",
    "assert age_array[0] == 23, 'The first item in the age_array should be 23'\n",
    "assert body_fat_array[0] == 9.5, 'The first item in the body_fat_array should be 9.5'"
   ]
  },
  {
   "cell_type": "markdown",
   "metadata": {
    "deletable": false,
    "editable": false,
    "nbgrader": {
     "cell_type": "markdown",
     "checksum": "4fbcc633bbf12cc049142a53e1c6e5fa",
     "grade": false,
     "grade_id": "cell-111a923765d7da38",
     "locked": true,
     "schema_version": 3,
     "solution": false
    }
   },
   "source": [
    "### Part 2 - Calculating Mean, Median, and Standard Deviation\n",
    "\n",
    "Let's now calculate some basic statistics about our dataset.\n",
    "\n",
    "\n",
    "In the cell below you should use `numpy` build in functions `np.mean()`, `np.median()`, `np.std()`  to calculate mean, median, and standard deviation for each array.."
   ]
  },
  {
   "cell_type": "code",
   "execution_count": 7,
   "metadata": {
    "deletable": false,
    "nbgrader": {
     "cell_type": "code",
     "checksum": "1ae21fc20a36b1d2a8851a04ba0e0919",
     "grade": false,
     "grade_id": "problem_1_ag_p2_modify_lists",
     "locked": false,
     "schema_version": 3,
     "solution": true
    }
   },
   "outputs": [],
   "source": [
    "# Below, add the stations from the second table to the lists\n",
    "\n",
    "age_mean = np.mean([23,23,27,27,39,41,47,49,50,52])\n",
    "age_median = np.median([23,23,27,27,39,41,47,49,50,52])\n",
    "age_std = np.std([23,23,27,27,39,41,47,49,50,52])\n",
    "\n",
    "body_fat_mean = np.mean([9.5,26.5,7.8,17.8,31.4,25.9,27.4,27.2,31.2,34.6])\n",
    "body_fat_median = np.median([9.5,26.5,7.8,17.8,31.4,25.9,27.4,27.2,31.2,34.6])\n",
    "body_fat_std = np.std([9.5,26.5,7.8,17.8,31.4,25.9,27.4,27.2,31.2,34.6])\n"
   ]
  },
  {
   "cell_type": "markdown",
   "metadata": {
    "deletable": false,
    "editable": false,
    "nbgrader": {
     "cell_type": "markdown",
     "checksum": "4a602161f3d1e9d78420fc50666dcb7d",
     "grade": false,
     "grade_id": "cell-25712dde56b0deb9",
     "locked": true,
     "schema_version": 3,
     "solution": false,
     "task": false
    }
   },
   "source": [
    "And we can now check to see whether the calculated parameters for \"age\" are correct"
   ]
  },
  {
   "cell_type": "code",
   "execution_count": 8,
   "metadata": {
    "deletable": false,
    "editable": false,
    "nbgrader": {
     "cell_type": "code",
     "checksum": "2b48ea5a73266d2db26ddfaf63726f32",
     "grade": true,
     "grade_id": "problem_1_ag_p2_modify_lists_test1",
     "locked": true,
     "points": 0.5,
     "schema_version": 3,
     "solution": false
    }
   },
   "outputs": [
    {
     "name": "stdout",
     "output_type": "stream",
     "text": [
      "The mean age is 37.80\n",
      "The median age is 40.00\n",
      "The standard deviation of age is 11.15\n"
     ]
    }
   ],
   "source": [
    "######### This is a test cell that checks that the calculated parameters are correct #########\n",
    "# Running this cell should not produce any errors\n",
    "\n",
    "print(f'The mean age is {age_mean:.2f}')\n",
    "print(f'The median age is {age_median:.2f}')\n",
    "print(f'The standard deviation of age is {age_std:.2f}')"
   ]
  },
  {
   "cell_type": "markdown",
   "metadata": {},
   "source": [
    "And we can now check to see whether the calculated parameters for \"%fat\" are correct"
   ]
  },
  {
   "cell_type": "code",
   "execution_count": 9,
   "metadata": {
    "deletable": false,
    "editable": false,
    "nbgrader": {
     "cell_type": "code",
     "checksum": "139a20a651acd1843e4c1c8a0a24c6e3",
     "grade": true,
     "grade_id": "problem_1_ag_p2_modify_lists_test2",
     "locked": true,
     "points": 0.5,
     "schema_version": 3,
     "solution": false,
     "task": false
    }
   },
   "outputs": [
    {
     "name": "stdout",
     "output_type": "stream",
     "text": [
      "The mean body fat is 23.93\n",
      "The median body fat is 26.85\n",
      "The standard deviation of body fat is 8.73\n"
     ]
    }
   ],
   "source": [
    "######### This is a test cell that checks that the calculated parameters are correct #########\n",
    "# Running this cell should not produce any errors\n",
    "\n",
    "print(f'The mean body fat is {body_fat_mean:.2f}')\n",
    "print(f'The median body fat is {body_fat_median:.2f}')\n",
    "print(f'The standard deviation of body fat is {body_fat_std:.2f}')"
   ]
  },
  {
   "cell_type": "markdown",
   "metadata": {},
   "source": [
    "### Part 3 - Python + Google (optional)\n",
    "\n",
    "This section is optional. In Python, there's a powerful library called `Pandas` that facilitates working with data in the form of `DataFrame`. Dataframes are particularly useful for handling tables, such as Excel files or CSV data. If you'd like, you're free to do some Googling to learn how to create our age and %fat table using a Pandas DataFrame. Additionally, try calculating the mean, median, and standard deviation of the data using Pandas' functionalities.\n",
    "\n",
    "**NOTE**: If you plan to skip this optional problem, be sure to remove the `raise NotImplementedError()` line in the cell below so that you don't encounter any errors when running your notebook!\n"
   ]
  },
  {
   "cell_type": "code",
   "execution_count": 1,
   "metadata": {
    "deletable": false,
    "nbgrader": {
     "cell_type": "code",
     "checksum": "5baa8f50e1d4dd0f801af1f4d13aa9fc",
     "grade": true,
     "grade_id": "problem_1_mg_p5_zip_test",
     "locked": false,
     "points": 0,
     "schema_version": 3,
     "solution": true,
     "task": false
    }
   },
   "outputs": [
    {
     "name": "stdout",
     "output_type": "stream",
     "text": [
      "   Age  % Fat\n",
      "0   23    9.5\n",
      "1   23   26.5\n",
      "2   27    7.8\n",
      "3   27   17.8\n",
      "4   39   31.4\n",
      "5   41   25.9\n",
      "6   47   27.4\n",
      "7   49   27.2\n",
      "8   50   31.2\n",
      "9   52   34.6\n"
     ]
    }
   ],
   "source": [
    "# YOUR CODE HERE\n",
    "import pandas as pd\n",
    "\n",
    "# Create the data\n",
    "data = {\n",
    "    \"Age\": [23, 23, 27, 27, 39, 41, 47, 49, 50, 52],\n",
    "    \"% Fat\": [9.5, 26.5, 7.8, 17.8, 31.4, 25.9, 27.4, 27.2, 31.2, 34.6]\n",
    "}\n",
    "\n",
    "# Create a pandas DataFrame\n",
    "df = pd.DataFrame(data)\n",
    "\n",
    "# Display the DataFrame\n",
    "print(df)\n",
    "\n",
    "# raise NotImplementedError()"
   ]
  },
  {
   "cell_type": "markdown",
   "metadata": {
    "deletable": false,
    "editable": false,
    "nbgrader": {
     "cell_type": "markdown",
     "checksum": "458c0f4542e2e108f9e7d3c1954ac1df",
     "grade": false,
     "grade_id": "markdown_practice",
     "locked": true,
     "schema_version": 3,
     "solution": false
    }
   },
   "source": [
    "## Problem 3 - Practice using Markdown (2 points)\n",
    "\n",
    "The last task in this assigmnet is to answer some questions and add an image in this notebook using Markdown. **NOTE**: You may want to read a bit more about [formatting text in Github-flavored Markdown](https://help.github.com/articles/basic-writing-and-formatting-syntax/).\n",
    "\n"
   ]
  },
  {
   "cell_type": "markdown",
   "metadata": {
    "deletable": false,
    "editable": false,
    "nbgrader": {
     "cell_type": "markdown",
     "checksum": "752a5d84f7e4a7915f6222e50e8fe540",
     "grade": false,
     "grade_id": "cell-fc10820df7d8d3a7",
     "locked": true,
     "schema_version": 3,
     "solution": false,
     "task": false
    }
   },
   "source": [
    "### Part 1 - Questions about this assigments\n",
    "\n",
    "Please use Markdown to give your responses to the three questions below about this assigmnets.\n",
    "\n",
    "- What did you learn?\n",
    "- What was unclear?\n",
    "- What would you change about the tutorials?\n",
    "    \n",
    "*Please use a Markdown list when answering these questions.*"
   ]
  },
  {
   "cell_type": "markdown",
   "metadata": {
    "deletable": false,
    "nbgrader": {
     "cell_type": "markdown",
     "checksum": "07de9dee5b2705f62be6f4908840a277",
     "grade": true,
     "grade_id": "problem_3_mg_p1_questions",
     "locked": false,
     "points": 1,
     "schema_version": 3,
     "solution": true
    }
   },
   "source": [
    "YOUR ANSWER HERE"
   ]
  },
  {
   "cell_type": "markdown",
   "metadata": {},
   "source": [
    "# What I learnt?\n",
    "I learnt how to clone a repository.\n",
    "I learnt how to set up python in Anaconda Navigator.\n",
    "I learnt how to write python code using numpy and Pandas.\n",
    "\n",
    "# What was Unclear?\n",
    "How to use VScode for python coding.\n",
    "How to Clone a github repository in google collab environment.\n",
    "How to push and pull from VScode to Repository.\n",
    "I installed Anaconda but Jupyter lab did not lauch despite several reboot. How do I fix this?\n",
    "\n",
    "# What I would change about the tutorial?\n",
    "\n",
    "Adding the section on how to clone my github repository using google collab.\n",
    "\n"
   ]
  },
  {
   "cell_type": "markdown",
   "metadata": {
    "deletable": false,
    "editable": false,
    "nbgrader": {
     "cell_type": "markdown",
     "checksum": "37fd62cb66a3099c5a479826fdab9c48",
     "grade": false,
     "grade_id": "cell-d6174b4b759ce32d",
     "locked": true,
     "schema_version": 3,
     "solution": false,
     "task": false
    }
   },
   "source": [
    "### Part 2 - Adding an image\n",
    "\n",
    "Let's practice adding an image using markdown! You can search for an interesting picture related to spatial data mining on Google. Write a short description explaining what the image shows and its importance in understanding spatial data mining.\n",
    "\n",
    "You can add the image by using a URL or, for an extra challenge, upload an image to your GitHub repository and link it to this notebook.\n"
   ]
  },
  {
   "cell_type": "markdown",
   "metadata": {},
   "source": [
    "![Sample Image](https://www.dbs.ifi.lmu.de/Forschung/KDD/SpatialKDD/)\n",
    "\n",
    "Data Mining from Spatial Data"
   ]
  }
 ],
 "metadata": {
  "anaconda-cloud": {},
  "kernelspec": {
   "display_name": "base",
   "language": "python",
   "name": "python3"
  },
  "language_info": {
   "codemirror_mode": {
    "name": "ipython",
    "version": 3
   },
   "file_extension": ".py",
   "mimetype": "text/x-python",
   "name": "python",
   "nbconvert_exporter": "python",
   "pygments_lexer": "ipython3",
   "version": "3.12.7"
  }
 },
 "nbformat": 4,
 "nbformat_minor": 4
}
